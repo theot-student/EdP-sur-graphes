{
  "nbformat": 4,
  "nbformat_minor": 0,
  "metadata": {
    "colab": {
      "provenance": [],
      "collapsed_sections": [
        "wW8xQ8wEpRTO",
        "Ggg8muUklgub",
        "Ndea_lnKCXC8",
        "GlbYJi-68wtq",
        "NxzwLgXOCjNE",
        "su0D_AeeCA7P",
        "sgIDWGVOauhw",
        "iQFUrPaSaylO",
        "Prv1G1BFEsHO",
        "9xHkYjfV9vqH"
      ]
    },
    "kernelspec": {
      "name": "python3",
      "display_name": "Python 3"
    },
    "language_info": {
      "name": "python"
    }
  },
  "cells": [
    {
      "cell_type": "markdown",
      "source": [
        "# Classification à l'aide de propagation de front sur graphe"
      ],
      "metadata": {
        "id": "Qb4hTL_xpT5B"
      }
    },
    {
      "cell_type": "markdown",
      "source": [
        "Ce notebook présente l'implémentation d'une méthode de classification semi supervisé à l'aide de EdP sur graphe venant de la thèse de M. Touttain.\n",
        "Ce travail est le notebook de mon projet de fin d'étude disponible ici. Tous les commentaires sur les résultats sont disponibles dans le rapport disponible ici : https://github.com/theot-student/EdP-sur-graphes"
      ],
      "metadata": {
        "id": "JAQugAlgAyHU"
      }
    },
    {
      "cell_type": "markdown",
      "source": [
        "Le but de se notebook est d'implémenter un algorithme de classification semi-supervisé en utilisant l'équation eikonale sur graphe. L'algorithme est dit semi supervisé car il a besoin de connaître un certain nombre d'éléments labélisés initialement pour fonctionner. Nous allons voir comment utiliser cet algorithme pour classifier les base de données MNIST et OPTDIGITS."
      ],
      "metadata": {
        "id": "OuD3GRDuBO-_"
      }
    },
    {
      "cell_type": "code",
      "source": [
        "import numpy as np\n",
        "import pandas as pd\n",
        "from matplotlib import pyplot as plt\n",
        "import random\n",
        "import time\n",
        "from sklearn.neighbors import NearestNeighbors\n",
        "from keras.datasets import mnist\n",
        "import networkx as nx\n",
        "from sklearn.datasets import fetch_openml\n",
        "from sklearn.metrics.pairwise import euclidean_distances, PAIRWISE_DISTANCE_FUNCTIONS\n",
        "from sklearn.metrics import pairwise_distances\n",
        "from sklearn.preprocessing import StandardScaler\n",
        "import random\n",
        "from sklearn.metrics import confusion_matrix\n",
        "import seaborn as sns\n",
        "from sklearn.metrics import accuracy_score, precision_score, recall_score, f1_score, classification_report\n",
        "from collections import defaultdict\n",
        "from scipy.stats import wasserstein_distance"
      ],
      "metadata": {
        "id": "QJlkz1XMoiVM"
      },
      "execution_count": 1,
      "outputs": []
    },
    {
      "cell_type": "markdown",
      "source": [
        "## 1. Implémentation pour la création du graphe des données"
      ],
      "metadata": {
        "id": "iUT1mVMPpNl-"
      }
    },
    {
      "cell_type": "markdown",
      "source": [
        "Dans cette partie comprend l'implémentation d'un graphe des k-plus proches voisins à partir d'une liste de distances. Les distances doivent être représenté par une matrice où chaque ligne i, et chaque colonne j représenté l'élément i ou j de la base de données. Ainsi, la cellule i,j donne la distance entre les éléments i et j."
      ],
      "metadata": {
        "id": "8hjq2KZIG68N"
      }
    },
    {
      "cell_type": "code",
      "source": [
        "sigma = 0.5\n",
        "def computeWeight(u,v,distances,sigma):\n",
        "  return 1 / distances[u,v]"
      ],
      "metadata": {
        "id": "9QbkLaxUhFHq"
      },
      "execution_count": 2,
      "outputs": []
    },
    {
      "cell_type": "code",
      "source": [
        "def nearest_neighbors_graph(k, data, labels, distances, weightFunction):\n",
        "  #Paramètres :\n",
        "  # int k : nombre de voisins\n",
        "  # tab data : tableau contenant les données\n",
        "  # tab labels : tableau contenant les labels\n",
        "  # matrice distances : matrice N*N des distances entre les éléments\n",
        "  # function weightFunction : fonction d'attribution des poids\n",
        "\n",
        "  G = nx.Graph()\n",
        "\n",
        "  # Ajouter les nœuds\n",
        "  for i in range(len(data)):\n",
        "      G.add_node(i, label=labels[i])\n",
        "\n",
        "  # Ajouter les arêtes\n",
        "  for i in range(len(data)):\n",
        "      nearest_neighbors = np.argsort(distances[i])[1:k+1]  # On récupère les k plus proches voisins\n",
        "      for neighbor in nearest_neighbors:\n",
        "          G.add_edge(i, neighbor, weight=weightFunction(i,neighbor,distances,sigma))\n",
        "  return G"
      ],
      "metadata": {
        "id": "L6IUrHO-7uSw"
      },
      "execution_count": 3,
      "outputs": []
    },
    {
      "cell_type": "code",
      "source": [
        "k = 10  # Nombre de voisins"
      ],
      "metadata": {
        "id": "u4cewkZw77t_"
      },
      "execution_count": 4,
      "outputs": []
    },
    {
      "cell_type": "markdown",
      "source": [
        "## 2. Implémentation du modèle de classification"
      ],
      "metadata": {
        "id": "fnCdW6eZufaA"
      }
    },
    {
      "cell_type": "markdown",
      "source": [
        "Nous implémentons maintenant l'algorithme de classification semi-supervisé vu dans le rapport. Nous utilisons un potentiel égal à 1 et nous utilisons la solution locale pour p=1."
      ],
      "metadata": {
        "id": "1Sk71y9xIfDD"
      }
    },
    {
      "cell_type": "code",
      "source": [
        "def P(vertex):\n",
        "  return 1"
      ],
      "metadata": {
        "id": "C6WQqL3Mxb68"
      },
      "execution_count": 5,
      "outputs": []
    },
    {
      "cell_type": "code",
      "source": [
        "def smaller(a ,b) :\n",
        "  if a == \"inf\" and b != \"inf\":\n",
        "    return False\n",
        "  else :\n",
        "    if b == \"inf\" :\n",
        "      return True\n",
        "    else :\n",
        "      return a < b"
      ],
      "metadata": {
        "id": "B3T0BavbBqYF"
      },
      "execution_count": 6,
      "outputs": []
    },
    {
      "cell_type": "code",
      "source": [
        "def smallerEqual(a ,b) :\n",
        "  if a == \"inf\" and b != \"inf\":\n",
        "    return False\n",
        "  else :\n",
        "    if b == \"inf\" :\n",
        "      return True\n",
        "    else :\n",
        "      return a <= b"
      ],
      "metadata": {
        "id": "tXR8By8RFNRD"
      },
      "execution_count": 7,
      "outputs": []
    },
    {
      "cell_type": "code",
      "source": [
        "def sortingFunc(x, f):\n",
        "  if f[x] == \"inf\" :\n",
        "    return 100000\n",
        "  else :\n",
        "    return f[x]"
      ],
      "metadata": {
        "id": "D5Iz_0r4CRm5"
      },
      "execution_count": 8,
      "outputs": []
    },
    {
      "cell_type": "code",
      "source": [
        "def solutionLocaleL1(vertex, edges, f, dataGraph) :\n",
        "  sortedVertex = []\n",
        "  sortedWeight = []\n",
        "  for edge in edges :\n",
        "    sortedVertex.append(edge[1])\n",
        "    sortedWeight.append(dataGraph.edges[vertex,edge[1]][\"weight\"])\n",
        "\n",
        "  sort_index = [i for i, x in sorted(enumerate(sortedVertex), key=lambda x: sortingFunc(x[1], f))]\n",
        "  sortedVertex = np.array(sortedVertex)\n",
        "  sortedWeight = np.array(sortedWeight)\n",
        "  sortedVertex = sortedVertex[sort_index]\n",
        "  sortedWeight = sortedWeight[sort_index]\n",
        "\n",
        "  #calcul de la solution locale\n",
        "  n = len(sortedVertex)\n",
        "  m = 0\n",
        "  x = \"inf\"\n",
        "  if f[sortedVertex[0]] == \"inf\" :\n",
        "    return \"inf\"\n",
        "  while m <= n-1 and smallerEqual(f[sortedVertex[m]],x) :\n",
        "    sumha = 0\n",
        "    sumh = 0\n",
        "    for i in range(m+1) :\n",
        "      h = np.sqrt(sortedWeight[i])\n",
        "      sumha += h * f[sortedVertex[i]]\n",
        "      sumh += h\n",
        "    m += 1\n",
        "    x = (sumha + P(vertex)) / sumh\n",
        "\n",
        "  return x"
      ],
      "metadata": {
        "id": "-ilaBUEtAPRz"
      },
      "execution_count": 9,
      "outputs": []
    },
    {
      "cell_type": "code",
      "source": [
        "\n",
        "def minSearch(edges, A, f) :\n",
        "  argMin = edges[0][1]\n",
        "  candidates = [edge[1] for edge in edges if edge[1] in A]\n",
        "  for vertex in candidates :\n",
        "    if smaller(f[vertex],f[argMin]) :\n",
        "      argMin = vertex\n",
        "  return argMin"
      ],
      "metadata": {
        "id": "mdjB8w0RJbJl"
      },
      "execution_count": 10,
      "outputs": []
    },
    {
      "cell_type": "code",
      "source": [
        "def propagationDeFront(dataGraph, S0, solutionLocal) :\n",
        "  #Algorithme de propagation de front utilisant l'équation eikonale sur graphe.\n",
        "  #Paramètres :\n",
        "  # NetworkXGraph dataGraph : graph pondéré des plus proches voisins contenant les labels\n",
        "  # set S0 : ensembles des noeuds de départ. Seuls les labels de ces noeuds seront accéder dans l'algorithme\n",
        "  # function solutionLocal : fonction permettant de calculer la solution locale en un point\n",
        "\n",
        "  l = 0\n",
        "  #init\n",
        "  lab = {}\n",
        "  s = {}\n",
        "  f = {}\n",
        "  for vertex in list(dataGraph.nodes) :\n",
        "    if vertex in S0 :\n",
        "      lab[vertex] = dataGraph.nodes[list(dataGraph.nodes)[vertex]]['label']\n",
        "      f[vertex] = 0\n",
        "    else :\n",
        "      lab[vertex] = -1\n",
        "      f[vertex] = \"inf\"\n",
        "      s[vertex] = \"inf\"\n",
        "  A = S0.copy()\n",
        "  NB = set()\n",
        "  for vertex in A :\n",
        "    for neighbor in list(dataGraph.adj[vertex]):\n",
        "      if neighbor not in A :\n",
        "         NB.add(neighbor)\n",
        "  FA = set(dataGraph.nodes).difference(A.union(NB))\n",
        "  for vertex in NB :\n",
        "    f[vertex] = solutionLocal(vertex, list(dataGraph.edges(vertex)), f,dataGraph)\n",
        "  NB = sorted(list(NB), key=lambda x : sortingFunc(x, f))\n",
        "  for u in NB:\n",
        "    v = minSearch(list(dataGraph.edges(u)), A, f)\n",
        "    lab[u] = lab[v]\n",
        "\n",
        "  #main loop\n",
        "  while len(NB) > 0:\n",
        "    l +=1\n",
        "    u = NB[0]\n",
        "    A.add(u)\n",
        "    NB.remove(u)\n",
        "    for vertex in list(dataGraph.adj[u]) :\n",
        "      if not(vertex in A) :\n",
        "        t = solutionLocal(vertex, list(dataGraph.edges(vertex)), f, dataGraph)\n",
        "        #print(\"sol locale \",t,\"f \",f[vertex])\n",
        "        if smaller(t, f[vertex]) :\n",
        "          f[vertex] = t\n",
        "          if vertex in FA :\n",
        "            FA.remove(vertex)\n",
        "            NB.append(vertex)\n",
        "          else :\n",
        "            NB = sorted(list(NB), key=lambda x : sortingFunc(x, f))\n",
        "\n",
        "          f_w = f[u] / dataGraph.edges[u,vertex][\"weight\"]\n",
        "\n",
        "          if smaller(f_w, s[vertex]) :\n",
        "            s[vertex] = f_w\n",
        "            lab[vertex] = lab[u]\n",
        "  return lab"
      ],
      "metadata": {
        "id": "WjTqv8BvtTis"
      },
      "execution_count": 11,
      "outputs": []
    },
    {
      "cell_type": "markdown",
      "source": [
        "On implémente également les métrique pour vérifier les résultats."
      ],
      "metadata": {
        "id": "AHvDcHb7K74o"
      }
    },
    {
      "cell_type": "code",
      "source": [
        "def tauxDeClassification(labels_predits, labels_reel):\n",
        "    true = 0\n",
        "    false = 0\n",
        "    non_assigné = 0\n",
        "    values = list(labels_predits.values())\n",
        "    for i in range(len(labels_predits)):\n",
        "      if  values[i] == labels_reel[i] :\n",
        "        true += 1\n",
        "      else :\n",
        "        false += 1\n",
        "      if values[i] == -1 :\n",
        "        non_assigné +=1\n",
        "    taux = true / (true + false)\n",
        "    return true, false, non_assigné , taux"
      ],
      "metadata": {
        "id": "Qwu0oZrA-7qt"
      },
      "execution_count": 12,
      "outputs": []
    },
    {
      "cell_type": "code",
      "source": [
        "def matriceDeConfusion(lab,y):\n",
        "\n",
        "  lab_array = np.array(list(lab.values()))\n",
        "\n",
        "  cm = confusion_matrix(y, lab_array)\n",
        "\n",
        "  plt.figure(figsize=(10, 8))\n",
        "  sns.heatmap(cm, annot=True, fmt=\"d\", cmap=\"Blues\")\n",
        "  plt.xlabel(\"Predicted Labels\")\n",
        "  plt.ylabel(\"True Labels\")\n",
        "  plt.title(\"Confusion Matrix\")\n",
        "  plt.show()"
      ],
      "metadata": {
        "id": "ZENtLs-oaeqn"
      },
      "execution_count": 13,
      "outputs": []
    },
    {
      "cell_type": "code",
      "source": [
        "def metrics(lab,y):\n",
        "\n",
        "  lab_array = np.array(list(lab.values()))\n",
        "\n",
        "\n",
        "  lab_array[lab_array == -1] = 0  # Remplace -1 par 0 pour éviter les erreurs\n",
        "\n",
        "\n",
        "  # Calculer les métriques\n",
        "  accuracy = accuracy_score(y, lab_array)\n",
        "  precision = precision_score(y, lab_array, average='weighted', zero_division=0)  # Gestion des cas de division par zéro\n",
        "  recall = recall_score(y, lab_array, average='weighted', zero_division=0)\n",
        "  f1 = f1_score(y, lab_array, average='weighted', zero_division=0)\n",
        "\n",
        "  # Afficher les métriques\n",
        "  print(f\"Accuracy: {accuracy}\")\n",
        "  print(f\"Precision: {precision}\")\n",
        "  print(f\"Recall: {recall}\")\n",
        "  print(f\"F1-score: {f1}\")\n",
        "\n",
        "  # Afficher le rapport de classification complet\n",
        "  print(classification_report(y, lab_array, zero_division=0))"
      ],
      "metadata": {
        "id": "Q4iiOmLDaloj"
      },
      "execution_count": 14,
      "outputs": []
    },
    {
      "cell_type": "markdown",
      "source": [
        "## 3. Application MNIST"
      ],
      "metadata": {
        "id": "hGzcMEwzxus-"
      }
    },
    {
      "cell_type": "markdown",
      "source": [
        "Nous allons tout d'abords nous intéresser à la base de données MNIST."
      ],
      "metadata": {
        "id": "YJXlTVeTLEz5"
      }
    },
    {
      "cell_type": "markdown",
      "source": [
        "### Importation des données MNIST"
      ],
      "metadata": {
        "id": "wW8xQ8wEpRTO"
      }
    },
    {
      "cell_type": "code",
      "source": [
        "N = 30000 # Nombre de données"
      ],
      "metadata": {
        "id": "1cGezHUQolnb"
      },
      "execution_count": null,
      "outputs": []
    },
    {
      "cell_type": "code",
      "source": [
        "(X0, Y0), (X1, Y1) = mnist.load_data()\n",
        "# On met le type des images en float.\n",
        "X0 = X0.astype('float32')\n",
        "X1 = X1.astype('float32')\n",
        "# On met les images sous la forme d'un vecteur.\n",
        "X0 = X0.reshape(60000, 784)\n",
        "X1 = X1.reshape(10000, 784)\n",
        "# On normalise les images.\n",
        "X0 = X0 / 255.0\n",
        "X1 = X1 / 255.0"
      ],
      "metadata": {
        "id": "vxgOjupto2fl"
      },
      "execution_count": null,
      "outputs": []
    },
    {
      "cell_type": "code",
      "source": [
        "#Affichage de la 3ème image\n",
        "n = 3\n",
        "Y0_ = pd.get_dummies(Y0).values\n",
        "Y1_ = pd.get_dummies(Y1).values\n",
        "plt.imshow(X0[n, :].reshape(28, 28), cmap=\"gray\")\n",
        "print(Y0[0])"
      ],
      "metadata": {
        "colab": {
          "base_uri": "https://localhost:8080/",
          "height": 447
        },
        "id": "WPdEWoDBzJlt",
        "outputId": "3ec26218-8a8e-41f4-d4fc-3123708a6f6d"
      },
      "execution_count": null,
      "outputs": [
        {
          "output_type": "stream",
          "name": "stdout",
          "text": [
            "5\n"
          ]
        },
        {
          "output_type": "display_data",
          "data": {
            "text/plain": [
              "<Figure size 640x480 with 1 Axes>"
            ],
            "image/png": "[encoded data removed]"
          },
          "metadata": {}
        }
      ]
    },
    {
      "cell_type": "code",
      "source": [
        "mnist_data = X0[:N]\n",
        "mnist_labels = Y0[:N]"
      ],
      "metadata": {
        "id": "l8-fhUfKzMOV"
      },
      "execution_count": null,
      "outputs": []
    },
    {
      "cell_type": "code",
      "source": [
        "np.unique(mnist_labels, return_counts=True)"
      ],
      "metadata": {
        "colab": {
          "base_uri": "https://localhost:8080/"
        },
        "id": "mA8wqxytcdiD",
        "outputId": "c7bccb85-051b-4133-d137-6011fb22d17d"
      },
      "execution_count": null,
      "outputs": [
        {
          "output_type": "execute_result",
          "data": {
            "text/plain": [
              "(array([0, 1, 2, 3, 4, 5, 6, 7, 8, 9], dtype=uint8),\n",
              " array([2961, 3423, 2948, 3073, 2926, 2709, 2975, 3107, 2875, 3003]))"
            ]
          },
          "metadata": {},
          "execution_count": 29
        }
      ]
    },
    {
      "cell_type": "code",
      "source": [
        "PAIRWISE_DISTANCE_FUNCTIONS"
      ],
      "metadata": {
        "colab": {
          "base_uri": "https://localhost:8080/"
        },
        "id": "I0lU3Ez2Ohc4",
        "outputId": "102d8776-0036-4eb4-da23-fe5b5a7ce4e1"
      },
      "execution_count": null,
      "outputs": [
        {
          "output_type": "execute_result",
          "data": {
            "text/plain": [
              "{'cityblock': <function sklearn.metrics.pairwise.manhattan_distances(X, Y=None)>,\n",
              " 'cosine': <function sklearn.metrics.pairwise.cosine_distances(X, Y=None)>,\n",
              " 'euclidean': <function sklearn.metrics.pairwise.euclidean_distances(X, Y=None, *, Y_norm_squared=None, squared=False, X_norm_squared=None)>,\n",
              " 'haversine': <function sklearn.metrics.pairwise.haversine_distances(X, Y=None)>,\n",
              " 'l2': <function sklearn.metrics.pairwise.euclidean_distances(X, Y=None, *, Y_norm_squared=None, squared=False, X_norm_squared=None)>,\n",
              " 'l1': <function sklearn.metrics.pairwise.manhattan_distances(X, Y=None)>,\n",
              " 'manhattan': <function sklearn.metrics.pairwise.manhattan_distances(X, Y=None)>,\n",
              " 'precomputed': None,\n",
              " 'nan_euclidean': <function sklearn.metrics.pairwise.nan_euclidean_distances(X, Y=None, *, squared=False, missing_values=nan, copy=True)>}"
            ]
          },
          "metadata": {},
          "execution_count": 30
        }
      ]
    },
    {
      "cell_type": "code",
      "source": [
        "mnist_distances = pairwise_distances(mnist_data, metric='euclidean')"
      ],
      "metadata": {
        "id": "VYW_irn5MbDJ"
      },
      "execution_count": null,
      "outputs": []
    },
    {
      "cell_type": "markdown",
      "source": [
        "Création du graphe des plus proches voisins."
      ],
      "metadata": {
        "id": "k9tlOzAsLgrL"
      }
    },
    {
      "cell_type": "code",
      "source": [
        "k = 10\n",
        "mnist_G = nearest_neighbors_graph(k, mnist_data, mnist_labels, mnist_distances, computeWeight)"
      ],
      "metadata": {
        "id": "WZO7oRPsFg9_"
      },
      "execution_count": null,
      "outputs": []
    },
    {
      "cell_type": "markdown",
      "source": [
        "### Visualisation du graphe"
      ],
      "metadata": {
        "id": "Ggg8muUklgub"
      }
    },
    {
      "cell_type": "code",
      "source": [
        "#pos = nx.spring_layout(G, seed=42)\n",
        "#nx.draw(G, pos, with_labels=False, node_size=1)"
      ],
      "metadata": {
        "id": "cWnjESXezdxT"
      },
      "execution_count": null,
      "outputs": []
    },
    {
      "cell_type": "code",
      "source": [
        "subgraph = mnist_G.subgraph(list(mnist_G.nodes)[:500])"
      ],
      "metadata": {
        "id": "uxDSsCQcmFI7"
      },
      "execution_count": null,
      "outputs": []
    },
    {
      "cell_type": "code",
      "source": [
        "# Générer un mapping des couleurs\n",
        "unique_labels = [0,1,2,3,4,5,6,7,8,9]\n",
        "color_map = {label: plt.cm.tab10(i) for i, label in enumerate(unique_labels)}  # Associer une couleur à chaque label\n",
        "\n",
        "# Créer une liste de couleurs pour chaque nœud\n",
        "node_colors = [color_map[mnist_labels[node]] for node in subgraph.nodes()]"
      ],
      "metadata": {
        "id": "p4fp9y-ylfio"
      },
      "execution_count": null,
      "outputs": []
    },
    {
      "cell_type": "code",
      "source": [
        "pos = nx.spring_layout(subgraph)  # Générer une disposition des nœuds\n",
        "nx.draw(subgraph, pos, node_color=node_colors, with_labels=False, node_size=20, font_color='white')\n",
        "\n",
        "\n",
        "handles = [\n",
        "    plt.Line2D([0], [0], marker='o', color='w', markerfacecolor=color, markersize=10)\n",
        "    for label, color in color_map.items()\n",
        "]\n",
        "\n",
        "# Ajouter la légende en bas à gauche\n",
        "plt.legend(handles, color_map.keys(), title=\"Labels\", loc='lower left', bbox_to_anchor=(0, 0))\n",
        "plt.show()"
      ],
      "metadata": {
        "id": "_9iCXRm-k6ce",
        "colab": {
          "base_uri": "https://localhost:8080/",
          "height": 516
        },
        "outputId": "dafa39be-2f1e-499d-f3cf-b20b1e0aa177"
      },
      "execution_count": null,
      "outputs": [
        {
          "output_type": "display_data",
          "data": {
            "text/plain": [
              "<Figure size 640x480 with 1 Axes>"
            ],
            "image/png": "[encoded data removed]"
          },
          "metadata": {}
        }
      ]
    },
    {
      "cell_type": "code",
      "source": [
        "mnist_G.nodes[list(mnist_G.nodes)[0]]['label']"
      ],
      "metadata": {
        "id": "WqhJToDJ7r5i",
        "colab": {
          "base_uri": "https://localhost:8080/"
        },
        "outputId": "bc0aab18-b4e4-4d9c-96a8-15544e8e7bf2"
      },
      "execution_count": null,
      "outputs": [
        {
          "output_type": "execute_result",
          "data": {
            "text/plain": [
              "5"
            ]
          },
          "metadata": {},
          "execution_count": 119
        }
      ]
    },
    {
      "cell_type": "code",
      "source": [
        "list(mnist_G.edges(0))"
      ],
      "metadata": {
        "id": "XJuTohZf9MMT",
        "colab": {
          "base_uri": "https://localhost:8080/"
        },
        "outputId": "92caacd6-43e6-4a63-a8fa-ba93c2ca6784"
      },
      "execution_count": null,
      "outputs": [
        {
          "output_type": "execute_result",
          "data": {
            "text/plain": [
              "[(0, 1757),\n",
              " (0, 156),\n",
              " (0, 2699),\n",
              " (0, 2983),\n",
              " (0, 3256),\n",
              " (0, 4035),\n",
              " (0, 1620),\n",
              " (0, 326),\n",
              " (0, 902),\n",
              " (0, 4305),\n",
              " (0, 581),\n",
              " (0, 988),\n",
              " (0, 1793),\n",
              " (0, 2723),\n",
              " (0, 3716),\n",
              " (0, 3821),\n",
              " (0, 3839),\n",
              " (0, 3995),\n",
              " (0, 4229),\n",
              " (0, 4325)]"
            ]
          },
          "metadata": {},
          "execution_count": 120
        }
      ]
    },
    {
      "cell_type": "code",
      "source": [
        "nx.is_connected(mnist_G)"
      ],
      "metadata": {
        "colab": {
          "base_uri": "https://localhost:8080/"
        },
        "id": "Ib1LhZ-GJXeA",
        "outputId": "635f433e-235c-42b4-e525-d2db9281493d"
      },
      "execution_count": null,
      "outputs": [
        {
          "output_type": "execute_result",
          "data": {
            "text/plain": [
              "True"
            ]
          },
          "metadata": {},
          "execution_count": 121
        }
      ]
    },
    {
      "cell_type": "markdown",
      "source": [
        "### Application"
      ],
      "metadata": {
        "id": "Ndea_lnKCXC8"
      }
    },
    {
      "cell_type": "markdown",
      "source": [
        "Dans cette expérience, on regarde les taux de classification pour 1% de germes selon si on a utilisé la distance Euclidienne ou Cosinus. Je vous conseille de ne pas tester de votre coté car la propagation de front peut prendre plus d'une heure."
      ],
      "metadata": {
        "id": "imrkUcZMLo-F"
      }
    },
    {
      "cell_type": "code",
      "source": [
        "Ngermes = N // 100"
      ],
      "metadata": {
        "id": "rO1hQm-SxuJ5"
      },
      "execution_count": null,
      "outputs": []
    },
    {
      "cell_type": "code",
      "source": [
        "mnist_S0 = set(random.sample(list(mnist_G.nodes),Ngermes))"
      ],
      "metadata": {
        "id": "iqhkcNeCv4BP",
        "collapsed": true
      },
      "execution_count": null,
      "outputs": []
    },
    {
      "cell_type": "code",
      "source": [
        "mnist_lab = propagationDeFront(mnist_G, mnist_S0, solutionLocaleL1)"
      ],
      "metadata": {
        "id": "IrE_aZCzwoj2",
        "collapsed": true
      },
      "execution_count": null,
      "outputs": []
    },
    {
      "cell_type": "code",
      "source": [
        "#lab.values()"
      ],
      "metadata": {
        "id": "w11aPK155WJB",
        "collapsed": true
      },
      "execution_count": null,
      "outputs": []
    },
    {
      "cell_type": "code",
      "source": [
        "true,false,non_assigné, taux = tauxDeClassification(mnist_lab, mnist_labels)\n",
        "print(\"true = \", true)\n",
        "print(\"false = \", false)\n",
        "print(\"non_assignés = \", non_assigné)\n",
        "print(taux)"
      ],
      "metadata": {
        "id": "bJjXWYJyiuZZ",
        "colab": {
          "base_uri": "https://localhost:8080/"
        },
        "outputId": "4e8ec30d-53cc-40d3-a0b0-c9ed152ce51f"
      },
      "execution_count": null,
      "outputs": [
        {
          "output_type": "stream",
          "name": "stdout",
          "text": [
            "true =  24467\n",
            "false =  5533\n",
            "non_assignés =  0\n",
            "0.8155666666666667\n"
          ]
        }
      ]
    },
    {
      "cell_type": "code",
      "source": [
        "matriceDeConfusion(mnist_lab,mnist_labels)"
      ],
      "metadata": {
        "colab": {
          "base_uri": "https://localhost:8080/",
          "height": 718
        },
        "id": "TN3xFM1z2tgT",
        "outputId": "5b3ad020-7fbb-4745-ecc0-53868eb41535"
      },
      "execution_count": null,
      "outputs": [
        {
          "output_type": "display_data",
          "data": {
            "text/plain": [
              "<Figure size 1000x800 with 2 Axes>"
            ],
            "image/png": "[encoded data removed]"
          },
          "metadata": {}
        }
      ]
    },
    {
      "cell_type": "code",
      "source": [
        "np.unique(mnist_labels[list(mnist_S0)], return_counts=True)"
      ],
      "metadata": {
        "colab": {
          "base_uri": "https://localhost:8080/"
        },
        "id": "dXV7Bt6moRjg",
        "outputId": "7aec8976-5845-4b9d-c620-138c3631bf2c"
      },
      "execution_count": null,
      "outputs": [
        {
          "output_type": "execute_result",
          "data": {
            "text/plain": [
              "(array([0, 1, 2, 3, 4, 5, 6, 7, 8, 9], dtype=uint8),\n",
              " array([31, 28, 23, 29, 21, 37, 24, 33, 36, 38]))"
            ]
          },
          "metadata": {},
          "execution_count": 30
        }
      ]
    },
    {
      "cell_type": "markdown",
      "source": [
        "## 4. Application OPTDIGITS"
      ],
      "metadata": {
        "id": "GlbYJi-68wtq"
      }
    },
    {
      "cell_type": "markdown",
      "source": [
        "Nous testons maintenant notre algorithme sur la base de données OPTDIGITS."
      ],
      "metadata": {
        "id": "FBKbokZaMADs"
      }
    },
    {
      "cell_type": "markdown",
      "source": [
        "### Création du graphe"
      ],
      "metadata": {
        "id": "NxzwLgXOCjNE"
      }
    },
    {
      "cell_type": "code",
      "source": [
        "from sklearn.datasets import fetch_openml\n",
        "\n",
        "optdigits = fetch_openml(name='optdigits', version=1, parser='auto')\n",
        "\n",
        "# Récupérer les features (X) et les labels (y)\n",
        "opt_X = np.array(optdigits.data)\n",
        "opt_y = np.array(optdigits.target)"
      ],
      "metadata": {
        "id": "8dRWY7m9Ma9U"
      },
      "execution_count": 15,
      "outputs": []
    },
    {
      "cell_type": "code",
      "source": [
        "np.unique(opt_y, return_counts=True)"
      ],
      "metadata": {
        "colab": {
          "base_uri": "https://localhost:8080/"
        },
        "id": "1iQeuFYwbIs5",
        "outputId": "cbace77b-9eaa-4133-815a-f132f1369372"
      },
      "execution_count": 16,
      "outputs": [
        {
          "output_type": "execute_result",
          "data": {
            "text/plain": [
              "(array(['0', '1', '2', '3', '4', '5', '6', '7', '8', '9'], dtype=object),\n",
              " array([554, 571, 557, 572, 568, 558, 558, 566, 554, 562]))"
            ]
          },
          "metadata": {},
          "execution_count": 16
        }
      ]
    },
    {
      "cell_type": "code",
      "source": [
        "fig, axes = plt.subplots(2, 5, figsize=(10, 5))\n",
        "\n",
        "for i, ax in enumerate(axes.flat):\n",
        "    index = np.random.randint(len(opt_X))\n",
        "    image = opt_X[index].reshape(8, 8)  # Reshape en matrice 8x8\n",
        "    ax.imshow(image, cmap=\"gray\")\n",
        "    ax.set_title(f\"Label: {opt_y[index]}\")\n",
        "    ax.axis(\"off\")\n",
        "\n",
        "plt.show()"
      ],
      "metadata": {
        "colab": {
          "base_uri": "https://localhost:8080/",
          "height": 0
        },
        "id": "ukkOGSwe8v57",
        "outputId": "a8a8ea06-3029-4fd0-fac6-b75ec503e9a8"
      },
      "execution_count": 17,
      "outputs": [
        {
          "output_type": "display_data",
          "data": {
            "text/plain": [
              "<Figure size 1000x500 with 10 Axes>"
            ],
            "image/png": "[encoded data removed]"
          },
          "metadata": {}
        }
      ]
    },
    {
      "cell_type": "code",
      "source": [
        "opt_distances = euclidean_distances(opt_X)"
      ],
      "metadata": {
        "id": "RYFwENQO8-cP"
      },
      "execution_count": 18,
      "outputs": []
    },
    {
      "cell_type": "code",
      "source": [
        "k = 10"
      ],
      "metadata": {
        "id": "_lV6CtdiBFh4"
      },
      "execution_count": 19,
      "outputs": []
    },
    {
      "cell_type": "code",
      "source": [
        "opt_G = nearest_neighbors_graph(k, opt_X, opt_y, opt_distances, computeWeight)"
      ],
      "metadata": {
        "id": "TnskyySY9yNT"
      },
      "execution_count": 20,
      "outputs": []
    },
    {
      "cell_type": "markdown",
      "source": [
        "### Application"
      ],
      "metadata": {
        "id": "11-Jn_QACmnH"
      }
    },
    {
      "cell_type": "markdown",
      "source": [
        "On fait une première expérience simple pour 1% de germes."
      ],
      "metadata": {
        "id": "2ZWzdJ7KMuWk"
      }
    },
    {
      "cell_type": "code",
      "source": [
        "Ngermes = len(opt_X) // 100\n",
        "Ngermes"
      ],
      "metadata": {
        "colab": {
          "base_uri": "https://localhost:8080/"
        },
        "id": "Z7MQDWN6-J30",
        "outputId": "6f7997fe-9340-46d3-bd4b-7416562d610f"
      },
      "execution_count": 21,
      "outputs": [
        {
          "output_type": "execute_result",
          "data": {
            "text/plain": [
              "56"
            ]
          },
          "metadata": {},
          "execution_count": 21
        }
      ]
    },
    {
      "cell_type": "code",
      "source": [
        "opt_S0 = set(random.sample(list(opt_G.nodes),Ngermes))"
      ],
      "metadata": {
        "id": "m38_iayi-b4a"
      },
      "execution_count": 22,
      "outputs": []
    },
    {
      "cell_type": "code",
      "source": [
        "opt_lab = propagationDeFront(opt_G, opt_S0, solutionLocaleL1)"
      ],
      "metadata": {
        "id": "PIWLf5uR-yOd"
      },
      "execution_count": 23,
      "outputs": []
    },
    {
      "cell_type": "code",
      "source": [
        "true,false,non_assigné, taux = tauxDeClassification(opt_lab, opt_y)\n",
        "print(\"true = \", true)\n",
        "print(\"false = \", false)\n",
        "print(\"non_assignés = \", non_assigné)"
      ],
      "metadata": {
        "id": "-BIFmoYs_56D",
        "colab": {
          "base_uri": "https://localhost:8080/"
        },
        "outputId": "31b9a638-d86a-45de-af44-8b4a299f21eb"
      },
      "execution_count": 24,
      "outputs": [
        {
          "output_type": "stream",
          "name": "stdout",
          "text": [
            "true =  5068\n",
            "false =  552\n",
            "non_assignés =  0\n"
          ]
        }
      ]
    },
    {
      "cell_type": "code",
      "source": [
        "print(taux)"
      ],
      "metadata": {
        "id": "AcwxHW2XAsd8",
        "colab": {
          "base_uri": "https://localhost:8080/"
        },
        "outputId": "ee9d009f-f3e5-4ea9-a645-755f79ba1854"
      },
      "execution_count": 25,
      "outputs": [
        {
          "output_type": "stream",
          "name": "stdout",
          "text": [
            "0.9017793594306049\n"
          ]
        }
      ]
    },
    {
      "cell_type": "code",
      "source": [
        "matriceDeConfusion(opt_lab,opt_y)"
      ],
      "metadata": {
        "colab": {
          "base_uri": "https://localhost:8080/",
          "height": 0
        },
        "id": "y3MUCVG4z_48",
        "outputId": "f7f4957b-05ae-4eea-d993-5bf0b96739ef"
      },
      "execution_count": 26,
      "outputs": [
        {
          "output_type": "display_data",
          "data": {
            "text/plain": [
              "<Figure size 1000x800 with 2 Axes>"
            ],
            "image/png": "[encoded data removed]"
          },
          "metadata": {}
        }
      ]
    },
    {
      "cell_type": "markdown",
      "source": [
        "## 5. Répétition de l'expérience"
      ],
      "metadata": {
        "id": "su0D_AeeCA7P"
      }
    },
    {
      "cell_type": "markdown",
      "source": [
        "Nous allons maintenant répéter l'expérience sur la base de données OPTDIGITS pour différents choix de germes aléatoires. Chaque expérience est répété 50 fois pour plus de précision dans les résultats."
      ],
      "metadata": {
        "id": "17fRSDRwCRMN"
      }
    },
    {
      "cell_type": "markdown",
      "source": [
        "### 1% de germes"
      ],
      "metadata": {
        "id": "sgIDWGVOauhw"
      }
    },
    {
      "cell_type": "code",
      "source": [
        "nbExp = 10 #50 normalement mais re effectué avec 10 par manque de temps\n",
        "Ngermes = len(opt_X) // 100\n",
        "somme_taux_moyen = 0\n",
        "somme_taux_moyen_carrée = 0\n",
        "for i in range(nbExp):\n",
        "  opt_S0 = set(random.sample(list(opt_G.nodes),Ngermes))\n",
        "  opt_lab = propagationDeFront(opt_G, opt_S0, solutionLocaleL1)\n",
        "  true, false, non_assigné, taux = tauxDeClassification(opt_lab, opt_y)\n",
        "  #print(taux)\n",
        "  somme_taux_moyen += taux\n",
        "  somme_taux_moyen_carrée += taux**2"
      ],
      "metadata": {
        "id": "k2FBpNXGCMQp"
      },
      "execution_count": 27,
      "outputs": []
    },
    {
      "cell_type": "code",
      "source": [
        "taux_moyen = somme_taux_moyen / nbExp\n",
        "print(\"taux moyen = \", taux_moyen)\n",
        "variance_taux = somme_taux_moyen_carrée / nbExp - taux_moyen**2\n",
        "print(\"variance = \", variance_taux)"
      ],
      "metadata": {
        "id": "CqGQW_pkBtnv",
        "colab": {
          "base_uri": "https://localhost:8080/"
        },
        "outputId": "0f80051c-52ec-4bf9-cfa5-8ed5240ee732"
      },
      "execution_count": 28,
      "outputs": [
        {
          "output_type": "stream",
          "name": "stdout",
          "text": [
            "taux moyen =  0.8922419928825622\n",
            "variance =  0.0011576993705754157\n"
          ]
        }
      ]
    },
    {
      "cell_type": "markdown",
      "source": [
        "### 5% de germes"
      ],
      "metadata": {
        "id": "iQFUrPaSaylO"
      }
    },
    {
      "cell_type": "code",
      "source": [
        "Ngermes = len(opt_X) // 20\n",
        "somme_taux_moyen = 0\n",
        "somme_taux_moyen_carrée = 0\n",
        "for i in range(nbExp):\n",
        "  opt_S0 = set(random.sample(list(opt_G.nodes),Ngermes))\n",
        "  opt_lab = propagationDeFront(opt_G, opt_S0, solutionLocaleL1)\n",
        "  true, false, non_assigné, taux = tauxDeClassification(opt_lab, opt_y)\n",
        "  print(taux)\n",
        "  somme_taux_moyen += taux\n",
        "  somme_taux_moyen_carrée += taux**2"
      ],
      "metadata": {
        "id": "Tp8L55Mpa2M_",
        "colab": {
          "base_uri": "https://localhost:8080/"
        },
        "outputId": "59de87b4-ebaa-443a-d267-c36ee2eae4e3"
      },
      "execution_count": 29,
      "outputs": [
        {
          "output_type": "stream",
          "name": "stdout",
          "text": [
            "0.9384341637010676\n",
            "0.8973309608540925\n",
            "0.9412811387900356\n",
            "0.9444839857651246\n",
            "0.9364768683274022\n",
            "0.947508896797153\n",
            "0.950711743772242\n",
            "0.9462633451957295\n",
            "0.949288256227758\n",
            "0.906761565836299\n"
          ]
        }
      ]
    },
    {
      "cell_type": "code",
      "source": [
        "taux_moyen = somme_taux_moyen / nbExp\n",
        "print(\"taux moyen = \", taux_moyen)\n",
        "variance_taux = somme_taux_moyen_carrée / nbExp - taux_moyen**2\n",
        "print(\"variance = \", variance_taux)"
      ],
      "metadata": {
        "id": "V8wO7pk_bFXx",
        "colab": {
          "base_uri": "https://localhost:8080/"
        },
        "outputId": "b4c36cba-f44d-4609-96ca-3547443cb106"
      },
      "execution_count": 30,
      "outputs": [
        {
          "output_type": "stream",
          "name": "stdout",
          "text": [
            "taux moyen =  0.9358540925266903\n",
            "variance =  0.00030867928471023376\n"
          ]
        }
      ]
    },
    {
      "cell_type": "markdown",
      "source": [
        "### 10% de germes"
      ],
      "metadata": {
        "id": "Prv1G1BFEsHO"
      }
    },
    {
      "cell_type": "code",
      "source": [
        "Ngermes = len(opt_X) // 10\n",
        "somme_taux_moyen = 0\n",
        "somme_taux_moyen_carrée = 0\n",
        "for i in range(nbExp):\n",
        "  opt_S0 = set(random.sample(list(opt_G.nodes),Ngermes))\n",
        "  opt_lab = propagationDeFront(opt_G, opt_S0, solutionLocaleL1)\n",
        "  true, false, non_assigné, taux = tauxDeClassification(opt_lab, opt_y)\n",
        "  print(taux)\n",
        "  somme_taux_moyen += taux\n",
        "  somme_taux_moyen_carrée += taux**2"
      ],
      "metadata": {
        "id": "D4AfSGy0EumY",
        "colab": {
          "base_uri": "https://localhost:8080/"
        },
        "outputId": "089d2483-c5ea-4fa1-c47f-380e8bc624ce"
      },
      "execution_count": 31,
      "outputs": [
        {
          "output_type": "stream",
          "name": "stdout",
          "text": [
            "0.951779359430605\n",
            "0.9548042704626335\n",
            "0.9398576512455517\n",
            "0.945017793594306\n",
            "0.9354092526690392\n",
            "0.9268683274021352\n",
            "0.9501779359430605\n",
            "0.9393238434163701\n",
            "0.9633451957295374\n",
            "0.9368327402135231\n"
          ]
        }
      ]
    },
    {
      "cell_type": "code",
      "source": [
        "taux_moyen = somme_taux_moyen / nbExp\n",
        "print(\"taux moyen = \", taux_moyen)\n",
        "variance_taux = somme_taux_moyen_carrée / nbExp - taux_moyen**2\n",
        "print(\"variance = \", variance_taux)"
      ],
      "metadata": {
        "id": "DR_EUBocEzj2",
        "colab": {
          "base_uri": "https://localhost:8080/"
        },
        "outputId": "2898784b-3225-43aa-dd7f-779d965c9b87"
      },
      "execution_count": 32,
      "outputs": [
        {
          "output_type": "stream",
          "name": "stdout",
          "text": [
            "taux moyen =  0.9443416370106762\n",
            "variance =  0.00010472131811911645\n"
          ]
        }
      ]
    },
    {
      "cell_type": "markdown",
      "source": [
        "## 6. Analyse de l'influence des germes"
      ],
      "metadata": {
        "id": "9xHkYjfV9vqH"
      }
    },
    {
      "cell_type": "markdown",
      "source": [
        "Dans cette partie, nous allons regarder l'influence des germes notamment lorsqu'elles favorise un label en particulier."
      ],
      "metadata": {
        "id": "-wlcgZBl_nKo"
      }
    },
    {
      "cell_type": "code",
      "source": [
        "Ngermes = len(opt_X) // 100"
      ],
      "metadata": {
        "id": "5nrxbLeNARUK"
      },
      "execution_count": null,
      "outputs": []
    },
    {
      "cell_type": "code",
      "source": [
        "label_dict = defaultdict(list)\n",
        "for node, data in opt_G.nodes(data=True):\n",
        "    label_dict[data['label']].append(node)"
      ],
      "metadata": {
        "id": "EKrySWEv8vkx"
      },
      "execution_count": null,
      "outputs": []
    },
    {
      "cell_type": "code",
      "source": [
        "#opt_S0 = set()\n",
        "#opt_S0.update(set(random.sample(list(label_dict['0']),2)))\n",
        "#opt_S0.update(set(random.sample(list(label_dict['1']),2)))\n",
        "#opt_S0.update(set(random.sample(list(label_dict['2']),2)))\n",
        "#opt_S0.update(set(random.sample(list(label_dict['3']),2)))\n",
        "#opt_S0.update(set(random.sample(list(label_dict['4']),2)))\n",
        "#opt_S0.update(set(random.sample(list(label_dict['5']),2)))\n",
        "#opt_S0.update(set(random.sample(list(label_dict['6']),2)))\n",
        "#opt_S0.update(set(random.sample(list(label_dict['7']),2)))\n",
        "#opt_S0.update(set(random.sample(list(label_dict['8']),2)))\n",
        "#opt_S0.update(set(random.sample(list(label_dict['9']),2)))\n",
        "#opt_S0.update(set(random.sample(list(label_dict['0']),Ngermes-20)))"
      ],
      "metadata": {
        "id": "ZslcVpq29X6e"
      },
      "execution_count": null,
      "outputs": []
    },
    {
      "cell_type": "code",
      "source": [
        "np.unique(opt_y[list(opt_S0)], return_counts=True)"
      ],
      "metadata": {
        "colab": {
          "base_uri": "https://localhost:8080/"
        },
        "id": "qStDfgezBDTK",
        "outputId": "c8d50561-e26a-42b2-be74-668e2fad80cc"
      },
      "execution_count": null,
      "outputs": [
        {
          "output_type": "execute_result",
          "data": {
            "text/plain": [
              "(array(['0', '1', '2', '3', '4', '5', '6', '7', '8', '9'], dtype=object),\n",
              " array([3, 9, 6, 4, 7, 5, 8, 4, 8, 2]))"
            ]
          },
          "metadata": {},
          "execution_count": 47
        }
      ]
    },
    {
      "cell_type": "code",
      "source": [
        "somme_taux_moyen = 0\n",
        "somme_taux_moyen_carrée = 0\n",
        "\n",
        "for i in range(10):\n",
        "  #init S0\n",
        "  opt_S0 = set()\n",
        "  opt_S0.update(set(random.sample(list(label_dict['0']),2)))\n",
        "  opt_S0.update(set(random.sample(list(label_dict['1']),2)))\n",
        "  opt_S0.update(set(random.sample(list(label_dict['2']),2)))\n",
        "  opt_S0.update(set(random.sample(list(label_dict['3']),2)))\n",
        "  opt_S0.update(set(random.sample(list(label_dict['4']),2)))\n",
        "  opt_S0.update(set(random.sample(list(label_dict['5']),2)))\n",
        "  opt_S0.update(set(random.sample(list(label_dict['6']),2)))\n",
        "  opt_S0.update(set(random.sample(list(label_dict['7']),2)))\n",
        "  opt_S0.update(set(random.sample(list(label_dict['8']),2)))\n",
        "  opt_S0.update(set(random.sample(list(label_dict['9']),2)))\n",
        "  opt_S0.update(set(random.sample(list(label_dict[str(i)]),Ngermes-20)))\n",
        "\n",
        "  #algo\n",
        "  opt_lab = propagationDeFront(opt_G, opt_S0, solutionLocaleL1)\n",
        "  true, false, non_assigné, taux = tauxDeClassification(opt_lab, opt_y)\n",
        "  somme_taux_moyen += taux\n",
        "  somme_taux_moyen_carrée += taux**2\n"
      ],
      "metadata": {
        "id": "fu6CoBFaAHjA"
      },
      "execution_count": null,
      "outputs": []
    },
    {
      "cell_type": "code",
      "source": [
        "taux_moyen = somme_taux_moyen / 10\n",
        "print(\"taux moyen = \", taux_moyen)\n",
        "variance_taux = somme_taux_moyen_carrée / 10 - taux_moyen**2\n",
        "print(\"variance = \", variance_taux)"
      ],
      "metadata": {
        "colab": {
          "base_uri": "https://localhost:8080/"
        },
        "id": "lD3VJvzmUEDo",
        "outputId": "5e12a180-ca70-4cb7-ae68-e7055819a0ff"
      },
      "execution_count": null,
      "outputs": [
        {
          "output_type": "stream",
          "name": "stdout",
          "text": [
            "taux moyen =  0.7616192170818505\n",
            "variance =  0.011036379035219812\n"
          ]
        }
      ]
    },
    {
      "cell_type": "code",
      "source": [
        "matriceDeConfusion(opt_lab,opt_y)"
      ],
      "metadata": {
        "id": "kwPbiv4XAUMd",
        "colab": {
          "base_uri": "https://localhost:8080/",
          "height": 718
        },
        "outputId": "ad303296-c892-4c3d-faa1-8823154efd78"
      },
      "execution_count": null,
      "outputs": [
        {
          "output_type": "display_data",
          "data": {
            "text/plain": [
              "<Figure size 1000x800 with 2 Axes>"
            ],
            "image/png": "[encoded data removed]"
          },
          "metadata": {}
        }
      ]
    },
    {
      "cell_type": "code",
      "source": [
        "metrics(opt_lab,opt_y)"
      ],
      "metadata": {
        "id": "-c6r8mLrC8Up",
        "colab": {
          "base_uri": "https://localhost:8080/"
        },
        "outputId": "902b5455-540b-43d8-b37e-2a6f1482e630"
      },
      "execution_count": null,
      "outputs": [
        {
          "output_type": "stream",
          "name": "stdout",
          "text": [
            "Accuracy: 0.9272241992882563\n",
            "Precision: 0.9273958949989828\n",
            "Recall: 0.9272241992882563\n",
            "F1-score: 0.9263250798230411\n",
            "              precision    recall  f1-score   support\n",
            "\n",
            "           0       0.96      1.00      0.98       554\n",
            "           1       0.87      0.92      0.89       571\n",
            "           2       0.94      0.96      0.95       557\n",
            "           3       0.94      0.95      0.95       572\n",
            "           4       0.99      0.93      0.96       568\n",
            "           5       0.92      0.89      0.90       558\n",
            "           6       0.95      0.97      0.96       558\n",
            "           7       0.90      0.99      0.95       566\n",
            "           8       0.90      0.89      0.89       554\n",
            "           9       0.90      0.76      0.82       562\n",
            "\n",
            "    accuracy                           0.93      5620\n",
            "   macro avg       0.93      0.93      0.93      5620\n",
            "weighted avg       0.93      0.93      0.93      5620\n",
            "\n"
          ]
        }
      ]
    },
    {
      "cell_type": "code",
      "source": [],
      "metadata": {
        "id": "PFJIRDhhEARv"
      },
      "execution_count": null,
      "outputs": []
    }
  ]
}